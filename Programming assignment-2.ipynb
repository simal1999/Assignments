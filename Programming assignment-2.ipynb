{
 "cells": [
  {
   "cell_type": "markdown",
   "metadata": {},
   "source": [
    "1.Write a Python program to convert kilometers to miles?"
   ]
  },
  {
   "cell_type": "code",
   "execution_count": 1,
   "metadata": {},
   "outputs": [
    {
     "name": "stdout",
     "output_type": "stream",
     "text": [
      "9 kilometer is equal to 5.592339 miles.\n"
     ]
    }
   ],
   "source": [
    "kilometer=9\n",
    "mile_for_1km=0.621371\n",
    "miles=kilometer*mile_for_1km\n",
    "print(f\"{kilometer} kilometer is equal to {miles} miles.\")"
   ]
  },
  {
   "cell_type": "markdown",
   "metadata": {},
   "source": [
    "2.Write a Python program to convert Celsius to Fahrenheit?"
   ]
  },
  {
   "cell_type": "code",
   "execution_count": 2,
   "metadata": {},
   "outputs": [
    {
     "name": "stdout",
     "output_type": "stream",
     "text": [
      "48 degrees Celsius is equal to 118.4 degrees Fahrenheit.\n"
     ]
    }
   ],
   "source": [
    "# formula(C×9/5)+32\n",
    "celsius=48\n",
    "fahrenheit=(celsius*9/5)+32\n",
    "print(f\"{celsius} degrees Celsius is equal to {fahrenheit} degrees Fahrenheit.\")"
   ]
  },
  {
   "cell_type": "markdown",
   "metadata": {},
   "source": [
    "3.Write a Python program to display calendar?"
   ]
  },
  {
   "cell_type": "code",
   "execution_count": 3,
   "metadata": {},
   "outputs": [
    {
     "name": "stdout",
     "output_type": "stream",
     "text": [
      "     April 2023\n",
      "Mo Tu We Th Fr Sa Su\n",
      "                1  2\n",
      " 3  4  5  6  7  8  9\n",
      "10 11 12 13 14 15 16\n",
      "17 18 19 20 21 22 23\n",
      "24 25 26 27 28 29 30\n",
      "\n"
     ]
    }
   ],
   "source": [
    "import calendar\n",
    "year=2023\n",
    "month=4\n",
    "print(calendar.month(year,month,1,1))"
   ]
  },
  {
   "cell_type": "markdown",
   "metadata": {},
   "source": [
    "4.Write a Python program to solve quadratic equation?"
   ]
  },
  {
   "cell_type": "code",
   "execution_count": 4,
   "metadata": {},
   "outputs": [
    {
     "name": "stdout",
     "output_type": "stream",
     "text": [
      "The solutions are 1.0 and 3.0.\n"
     ]
    }
   ],
   "source": [
    "import math\n",
    "#equation 2x**2-8x+c=0\n",
    "a=2\n",
    "b=-8\n",
    "c=6\n",
    "d=(b**2)-(4*a*c)\n",
    "if d < 0:\n",
    "    print(\"The equation has no real solutions\")\n",
    "else:\n",
    "    root_1=(-b-math.sqrt(d))/(2*a)\n",
    "    root_2=(-b+math.sqrt(d))/(2*a)\n",
    "    print(f\"The solutions are {root_1} and {root_2}.\")"
   ]
  },
  {
   "cell_type": "markdown",
   "metadata": {},
   "source": [
    "5.Write a Python program to swap two variables without temp variable?"
   ]
  },
  {
   "cell_type": "code",
   "execution_count": 5,
   "metadata": {},
   "outputs": [
    {
     "name": "stdout",
     "output_type": "stream",
     "text": [
      "Before a and b values are 8 and 4.\n",
      "After a and b values are 4 and 8.\n"
     ]
    }
   ],
   "source": [
    "a=8\n",
    "b=4\n",
    "print(f\"Before a and b values are {a} and {b}.\")\n",
    "a,b=b,a\n",
    "print(f\"After a and b values are {a} and {b}.\")"
   ]
  },
  {
   "cell_type": "code",
   "execution_count": null,
   "metadata": {},
   "outputs": [],
   "source": []
  }
 ],
 "metadata": {
  "kernelspec": {
   "display_name": "Python 3",
   "language": "python",
   "name": "python3"
  },
  "language_info": {
   "codemirror_mode": {
    "name": "ipython",
    "version": 3
   },
   "file_extension": ".py",
   "mimetype": "text/x-python",
   "name": "python",
   "nbconvert_exporter": "python",
   "pygments_lexer": "ipython3",
   "version": "3.8.3"
  }
 },
 "nbformat": 4,
 "nbformat_minor": 4
}
