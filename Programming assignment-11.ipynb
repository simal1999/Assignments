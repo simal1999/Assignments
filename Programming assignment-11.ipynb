{
 "cells": [
  {
   "cell_type": "markdown",
   "metadata": {},
   "source": [
    "1. Write a Python program to find words which are greater than given length k?"
   ]
  },
  {
   "cell_type": "code",
   "execution_count": 1,
   "metadata": {},
   "outputs": [
    {
     "name": "stdout",
     "output_type": "stream",
     "text": [
      "Enter sentance: hello hi my  name is simal\n",
      "Enter min number: 4\n",
      "words which are greater than given length 4 is\n",
      "hello\n",
      "simal\n"
     ]
    }
   ],
   "source": [
    "sentance=input(\"Enter sentance: \").split()\n",
    "k=int(input(\"Enter min number: \"))\n",
    "result=[i for i in sentance if len(i)>k]\n",
    "if len(result)==0:\n",
    "    print(\"no words\")\n",
    "else:\n",
    "    print(f\"words which are greater than given length {k} is\")\n",
    "    for i in result:\n",
    "        print(i)"
   ]
  },
  {
   "cell_type": "markdown",
   "metadata": {},
   "source": [
    "2. Write a Python program for removing i-th character from a string?"
   ]
  },
  {
   "cell_type": "code",
   "execution_count": 8,
   "metadata": {},
   "outputs": [
    {
     "name": "stdout",
     "output_type": "stream",
     "text": [
      "Enter a string: hello my name is simal\n",
      "Enter the index of the character to remove: 3\n",
      "New string: heo my name is sima\n"
     ]
    }
   ],
   "source": [
    "string=input(\"Enter a string: \")\n",
    "i=int(input(\"Enter the index of the character to remove: \"))\n",
    "if i<0 or i>=len(string):\n",
    "    print(\"Invalid index.\")\n",
    "else:\n",
    "    new_string=string.replace(string[i],\"\")\n",
    "    print(\"New string:\", new_string)"
   ]
  },
  {
   "cell_type": "markdown",
   "metadata": {},
   "source": [
    "3. Write a Python program to split and join a string?"
   ]
  },
  {
   "cell_type": "code",
   "execution_count": 3,
   "metadata": {},
   "outputs": [
    {
     "name": "stdout",
     "output_type": "stream",
     "text": [
      "Enter a string: hello my name is simal\n",
      "['hello', 'my', 'name', 'is', 'simal']\n",
      "New string: hello my name is simal\n"
     ]
    }
   ],
   "source": [
    "string=input(\"Enter a string: \")\n",
    "words = string.split()\n",
    "print(words)\n",
    "new_string = \" \".join(words)\n",
    "print(\"New string:\",new_string)"
   ]
  },
  {
   "cell_type": "markdown",
   "metadata": {},
   "source": [
    "4. Write a Python to check if a given string is binary string or not?"
   ]
  },
  {
   "cell_type": "code",
   "execution_count": 4,
   "metadata": {},
   "outputs": [
    {
     "name": "stdout",
     "output_type": "stream",
     "text": [
      "10291\n",
      "No, given string is not binary\n"
     ]
    }
   ],
   "source": [
    "string=input()\n",
    "a=set(string)\n",
    "b={'0','1'}\n",
    "if a==b or a=={'0'} or a=={'1'}:\n",
    "    print(\"Yes, given string is binary\")\n",
    "else:\n",
    "    print(\"No, given string is not binary\")"
   ]
  },
  {
   "cell_type": "markdown",
   "metadata": {},
   "source": [
    "5. Write a Python program to find uncommon words from two Strings?"
   ]
  },
  {
   "cell_type": "code",
   "execution_count": 5,
   "metadata": {},
   "outputs": [
    {
     "name": "stdout",
     "output_type": "stream",
     "text": [
      "Enter 1st sentance: hello simal how are you?\n",
      "Enter 2nd sentance: helllo manikanta i am fine.\n",
      "uncommon words from two Strings are \n",
      "i\n",
      "manikanta\n",
      "fine.\n",
      "am\n",
      "are\n",
      "hello\n",
      "how\n",
      "simal\n",
      "you?\n",
      "helllo\n"
     ]
    }
   ],
   "source": [
    "str1=input(\"Enter 1st sentance: \").split()\n",
    "str2=input(\"Enter 2nd sentance: \").split()\n",
    "uncommon=set(str1).symmetric_difference(set(str2))\n",
    "uncommon=list(uncommon)\n",
    "print(\"uncommon words from two Strings are \")\n",
    "for i in uncommon:\n",
    "    print(i)"
   ]
  },
  {
   "cell_type": "markdown",
   "metadata": {},
   "source": [
    "6. Write a Python to find all duplicate characters in string?"
   ]
  },
  {
   "cell_type": "code",
   "execution_count": 6,
   "metadata": {},
   "outputs": [
    {
     "name": "stdout",
     "output_type": "stream",
     "text": [
      "Enter sentance: hello my name is simal\n",
      "{'e', ' ', 'i', 'l', 's', 'a', 'm'}\n"
     ]
    }
   ],
   "source": [
    "string=input(\"Enter sentance: \")\n",
    "duplicates=set()\n",
    "for i in string:\n",
    "    if string.count(i)>1:\n",
    "        duplicates.add(i)\n",
    "print(duplicates)"
   ]
  },
  {
   "cell_type": "markdown",
   "metadata": {},
   "source": [
    "7. Write a Python Program to check if a string contains any special character?"
   ]
  },
  {
   "cell_type": "code",
   "execution_count": 7,
   "metadata": {},
   "outputs": [
    {
     "name": "stdout",
     "output_type": "stream",
     "text": [
      "Enter sentance: hey hello how are you?\n",
      "The string contains a special character.\n"
     ]
    }
   ],
   "source": [
    "import re\n",
    "string=input(\"Enter sentance: \")\n",
    "pattern=re.compile('[\\W_]+')\n",
    "if pattern.search(string):\n",
    "    print(\"The string contains a special character.\")\n",
    "else:\n",
    "    print(\"The string does not contain any special characters.\")"
   ]
  },
  {
   "cell_type": "code",
   "execution_count": null,
   "metadata": {},
   "outputs": [],
   "source": []
  }
 ],
 "metadata": {
  "kernelspec": {
   "display_name": "Python 3",
   "language": "python",
   "name": "python3"
  },
  "language_info": {
   "codemirror_mode": {
    "name": "ipython",
    "version": 3
   },
   "file_extension": ".py",
   "mimetype": "text/x-python",
   "name": "python",
   "nbconvert_exporter": "python",
   "pygments_lexer": "ipython3",
   "version": "3.8.3"
  }
 },
 "nbformat": 4,
 "nbformat_minor": 4
}
