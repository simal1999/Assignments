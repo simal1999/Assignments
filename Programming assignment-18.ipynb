{
 "cells": [
  {
   "cell_type": "markdown",
   "metadata": {},
   "source": [
    "Question 1.                                     \n",
    "Create a function that takes a list of non-negative integers and strings and return a new list\n",
    "without the strings."
   ]
  },
  {
   "cell_type": "code",
   "execution_count": 1,
   "metadata": {},
   "outputs": [
    {
     "name": "stdout",
     "output_type": "stream",
     "text": [
      "[1, 2, 3, 4, 5]\n"
     ]
    }
   ],
   "source": [
    "def non_negative_integers(l):\n",
    "    return [i for i in l if isinstance(i, int) and i>=0]\n",
    "input_list=[1,\"grapes\",2,\"orange\",3,\"apple\",4,\"dog\",5]\n",
    "list_with_filter=non_negative_integers(input_list)\n",
    "print(list_with_filter) "
   ]
  },
  {
   "cell_type": "markdown",
   "metadata": {},
   "source": [
    "Question 2.                                       \n",
    "The \"Reverser\" takes a string as input and returns that string in reverse order, with the\n",
    "opposite case."
   ]
  },
  {
   "cell_type": "code",
   "execution_count": 2,
   "metadata": {},
   "outputs": [
    {
     "name": "stdout",
     "output_type": "stream",
     "text": [
      "!DLROw,OLLEh\n"
     ]
    }
   ],
   "source": [
    "def reverser(string):\n",
    "    return string[::-1].swapcase()\n",
    "string=\"Hello,World!\"\n",
    "print(reverser(string))"
   ]
  },
  {
   "cell_type": "markdown",
   "metadata": {},
   "source": [
    "Question 3.                                                          \n",
    "You can assign variables from lists like this:\n",
    "lst = [1, 2, 3, 4, 5, 6]\n",
    "first = lst[0]\n",
    "middle = lst[1:-1]\n",
    "last = lst[-1]\n",
    "print(first) ➞ outputs 1\n",
    "print(middle) ➞ outputs [2, 3, 4, 5]\n",
    "print(last) ➞ outputs 6\n",
    "With Python 3, you can assign variables from lists in a much more succinct way. Create\n",
    "variables first, middle and last from the given list using destructuring assignment\n",
    "(check the Resources tab for some examples), where:\n",
    "first ➞ 1\n",
    "middle ➞ [2, 3, 4, 5]\n",
    "last ➞ 6\n",
    "\n",
    "Your task is to unpack the list writeyourcodehere into three variables, being first,\n",
    "middle, and last, with middle being everything in between the first and last element. Then\n",
    "print all three variables."
   ]
  },
  {
   "cell_type": "code",
   "execution_count": 3,
   "metadata": {},
   "outputs": [
    {
     "name": "stdout",
     "output_type": "stream",
     "text": [
      "First: 1\n",
      "Middle: [2, 3, 4, 5]\n",
      "Last: 6\n"
     ]
    }
   ],
   "source": [
    "list1=[1,2,3,4,5,6]\n",
    "first,*middle,last=list1\n",
    "print(\"First:\",first)\n",
    "print(\"Middle:\",middle)\n",
    "print(\"Last:\",last)"
   ]
  },
  {
   "cell_type": "markdown",
   "metadata": {},
   "source": [
    "Question 4.                         \n",
    "Write a function that calculates the factorial of a number recursively.\n",
    "Examples\n",
    "factorial(5) ➞ 120\n",
    "factorial(3) ➞ 6\n",
    "factorial(1) ➞ 1\n",
    "factorial(0) ➞ 1"
   ]
  },
  {
   "cell_type": "code",
   "execution_count": 4,
   "metadata": {},
   "outputs": [
    {
     "name": "stdout",
     "output_type": "stream",
     "text": [
      "120\n"
     ]
    }
   ],
   "source": [
    "def factorial(n):\n",
    "    if n==0 or n==1:\n",
    "        return 1\n",
    "    else:\n",
    "        return n*factorial(n-1)\n",
    "print(factorial(5))"
   ]
  },
  {
   "cell_type": "markdown",
   "metadata": {},
   "source": [
    "Question 5.                                    \n",
    "Write a function that moves all elements of one type to the end of the list.\n",
    "Examples\n",
    "move_to_end([1, 3, 2, 4, 4, 1], 1) ➞ [3, 2, 4, 4, 1, 1]\n",
    "Move all the 1s to the end of the array.\n",
    "move_to_end([7, 8, 9, 1, 2, 3, 4], 9) ➞ [7, 8, 1, 2, 3, 4, 9]\n",
    "move_to_end([&quot;a&quot;, &quot;a&quot;, &quot;a&quot;, &quot;b&quot;], &quot;a&quot;) ➞ [&quot;b&quot;, &quot;a&quot;, &quot;a&quot;, &quot;a&quot;]"
   ]
  },
  {
   "cell_type": "code",
   "execution_count": 5,
   "metadata": {},
   "outputs": [
    {
     "name": "stdout",
     "output_type": "stream",
     "text": [
      "[1, 3, 2, 1, 4, 4]\n"
     ]
    }
   ],
   "source": [
    "def move_to_end(l, element):\n",
    "    return [x for x in l if x!=element]+[x for x in l if x==element]\n",
    "result=move_to_end([1, 3, 2, 4, 4, 1], 4)\n",
    "print(result)"
   ]
  }
 ],
 "metadata": {
  "kernelspec": {
   "display_name": "Python 3",
   "language": "python",
   "name": "python3"
  },
  "language_info": {
   "codemirror_mode": {
    "name": "ipython",
    "version": 3
   },
   "file_extension": ".py",
   "mimetype": "text/x-python",
   "name": "python",
   "nbconvert_exporter": "python",
   "pygments_lexer": "ipython3",
   "version": "3.8.3"
  }
 },
 "nbformat": 4,
 "nbformat_minor": 4
}
