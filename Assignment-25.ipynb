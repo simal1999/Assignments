{
 "cells": [
  {
   "cell_type": "markdown",
   "metadata": {},
   "source": [
    "1.what is the difference between enclosing a list comprehension in square brackets and parentheses?                     \n",
    "Ans:                                                             \n",
    "List comprehension is enclosed in [] brackets.                                          \n",
    "generator expression is enclosed in () brackets."
   ]
  },
  {
   "cell_type": "markdown",
   "metadata": {},
   "source": [
    "2.what is the relationship between generators and iterators?                                                    \n",
    "Ans:                               \n",
    "Iterators are created with the help of looping generators.                                 \n",
    "every iterator is not a generator but generator is an iterator.                     "
   ]
  },
  {
   "cell_type": "markdown",
   "metadata": {},
   "source": [
    "3.what are the signs that a function is a generator function?                                      \n",
    "Ans:                                 \n",
    "If the body of a def function contains yield, it is a generator function.                       "
   ]
  },
  {
   "cell_type": "markdown",
   "metadata": {},
   "source": [
    "4.what is the purpose of a yeild statement?                       \n",
    "Ans:                         \n",
    "It helps to avoid exiting until the next time it is the purpose of a yeild statement."
   ]
  },
  {
   "cell_type": "markdown",
   "metadata": {},
   "source": [
    "5.What is the relationship between map calls and list comprehensions? Make a comparison between the two.             \n",
    "Ans:                      \n",
    "List is more clear and consise are than map calls.                         \n",
    "List allows filtering map calls does not.                           \n",
    "List is more fast than map in case of calling a defined function.                   "
   ]
  },
  {
   "cell_type": "code",
   "execution_count": null,
   "metadata": {},
   "outputs": [],
   "source": []
  }
 ],
 "metadata": {
  "kernelspec": {
   "display_name": "Python 3",
   "language": "python",
   "name": "python3"
  },
  "language_info": {
   "codemirror_mode": {
    "name": "ipython",
    "version": 3
   },
   "file_extension": ".py",
   "mimetype": "text/x-python",
   "name": "python",
   "nbconvert_exporter": "python",
   "pygments_lexer": "ipython3",
   "version": "3.8.3"
  }
 },
 "nbformat": 4,
 "nbformat_minor": 4
}
