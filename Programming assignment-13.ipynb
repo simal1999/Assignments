{
 "cells": [
  {
   "cell_type": "markdown",
   "metadata": {},
   "source": [
    "Question 1:\n",
    "Write a program that calculates and prints the value according to the given formula:\n",
    "Q = Square root of [(2 * C * D)/H]\n",
    "Following are the fixed values of C and H:\n",
    "C is 50. H is 30.\n",
    "D is the variable whose values should be input to your program in a comma-separated\n",
    "sequence.\n",
    "Example\n",
    "Let us assume the following comma separated input sequence is given to the program:\n",
    "100,150,180\n",
    "The output of the program should be:\n",
    "18,22,24"
   ]
  },
  {
   "cell_type": "code",
   "execution_count": 1,
   "metadata": {},
   "outputs": [
    {
     "name": "stdout",
     "output_type": "stream",
     "text": [
      "Enter number seperated by comma: 100,150,180\n",
      "[18, 22, 24]\n"
     ]
    }
   ],
   "source": [
    "import math\n",
    "C=50\n",
    "H=30\n",
    "D=input(\"Enter number seperated by comma: \").split(\",\")\n",
    "result=[]\n",
    "for i in D:\n",
    "    Q=math.sqrt((2*C*int(i))/H)\n",
    "    result.append(int(Q))\n",
    "print(result)\n"
   ]
  },
  {
   "cell_type": "markdown",
   "metadata": {},
   "source": [
    "Question 2:\n",
    "Write a program which takes 2 digits, X,Y as input and generates a 2-dimensional array. The\n",
    "element value in the i-th row and j-th column of the array should be i*j.\n",
    "Note: i=0,1.., X-1; j=0,1,¡Y-1.\n",
    "Example\n",
    "Suppose the following inputs are given to the program:\n",
    "3,5\n",
    "Then, the output of the program should be:\n",
    "[[0, 0, 0, 0, 0], [0, 1, 2, 3, 4], [0, 2, 4, 6, 8]]"
   ]
  },
  {
   "cell_type": "code",
   "execution_count": 2,
   "metadata": {},
   "outputs": [
    {
     "name": "stdout",
     "output_type": "stream",
     "text": [
      "Enter the value of X: 3\n",
      "Enter the value of Y: 5\n",
      "[0, 0, 0, 0, 0]\n",
      "[0, 1, 2, 3, 4]\n",
      "[0, 2, 4, 6, 8]\n"
     ]
    }
   ],
   "source": [
    "x=int(input(\"Enter the value of X: \"))\n",
    "y=int(input(\"Enter the value of Y: \"))\n",
    "array_2d=[[i * j for j in range(y)] for i in range(x)]\n",
    "for i in array_2d:\n",
    "    print(i)"
   ]
  },
  {
   "cell_type": "markdown",
   "metadata": {},
   "source": [
    "Question 3:\n",
    "Write a program that accepts a comma separated sequence of words as input and prints the\n",
    "words in a comma-separated sequence after sorting them alphabetically.\n",
    "Suppose the following input is supplied to the program:\n",
    "without,hello,bag,world\n",
    "Then, the output should be:\n",
    "bag,hello,without,world"
   ]
  },
  {
   "cell_type": "code",
   "execution_count": 3,
   "metadata": {},
   "outputs": [
    {
     "name": "stdout",
     "output_type": "stream",
     "text": [
      "Enter string: without,hello,bag,world\n",
      "bag,hello,without,world\n"
     ]
    }
   ],
   "source": [
    "string=input(\"Enter string: \").split(\",\")\n",
    "string.sort()\n",
    "i=\",\".join(string)\n",
    "print(i)"
   ]
  },
  {
   "cell_type": "markdown",
   "metadata": {},
   "source": [
    "Question 4:\n",
    "Write a program that accepts a sequence of whitespace separated words as input and prints\n",
    "the words after removing all duplicate words and sorting them alphanumerically.\n",
    "Suppose the following input is supplied to the program:\n",
    "hello world and practice makes perfect and hello world again\n",
    "Then, the output should be:\n",
    "again and hello makes perfect practice world"
   ]
  },
  {
   "cell_type": "code",
   "execution_count": 4,
   "metadata": {},
   "outputs": [
    {
     "name": "stdout",
     "output_type": "stream",
     "text": [
      "hello world and practice makes perfect and hello world again\n",
      "again and hello makes perfect practice world\n"
     ]
    }
   ],
   "source": [
    "string=set(input().split())\n",
    "string=list(string)\n",
    "string.sort()\n",
    "i=\" \".join(string)\n",
    "print(i)"
   ]
  },
  {
   "cell_type": "markdown",
   "metadata": {},
   "source": [
    "Question 5:\n",
    "Write a program that accepts a sentence and calculate the number of letters and digits.\n",
    "Suppose the following input is supplied to the program:\n",
    "hello world! 123\n",
    "Then, the output should be:\n",
    "LETTERS 10    DIGITS 3"
   ]
  },
  {
   "cell_type": "code",
   "execution_count": 5,
   "metadata": {},
   "outputs": [
    {
     "name": "stdout",
     "output_type": "stream",
     "text": [
      "hello world! 123\n",
      "Number of letters:  10\n",
      "Number of digits : 3\n"
     ]
    }
   ],
   "source": [
    "letter_count=0\n",
    "digit_count=0\n",
    "string=input()\n",
    "for i in string:\n",
    "        if i.isalpha():\n",
    "            letter_count+=1\n",
    "        elif i.isdigit():\n",
    "            digit_count += 1\n",
    "print(\"Number of letters: \",letter_count)\n",
    "print(\"Number of digits :\",digit_count)"
   ]
  },
  {
   "cell_type": "markdown",
   "metadata": {},
   "source": [
    "Question 6:\n",
    "A website requires the users to input username and password to register. Write a program to\n",
    "check the validity of password input by users.\n",
    "Following are the criteria for checking the password:\n",
    "1. At least 1 letter between [a-z]\n",
    "2. At least 1 number between [0-9]\n",
    "1. At least 1 letter between [A-Z]\n",
    "3. At least 1 character from [$#@]\n",
    "4. Minimum length of transaction password: 6\n",
    "5. Maximum length of transaction password: 12\n",
    "Your program should accept a sequence of comma separated passwords and will check them\n",
    "according to the above criteria. Passwords that match the criteria are to be printed, each\n",
    "separated by a comma.\n",
    "Example\n",
    "If the following passwords are given as input to the program:\n",
    "ABd1234@1,a F1#,2w3E*,2We3345\n",
    "Then, the output of the program should be:\n",
    "ABd1234@1"
   ]
  },
  {
   "cell_type": "code",
   "execution_count": 7,
   "metadata": {},
   "outputs": [
    {
     "name": "stdout",
     "output_type": "stream",
     "text": [
      "Enter comma separated passwords: ABd1234@1,a F1#,2w3E*,2We3345,Manikanta@19\n",
      "The valid passwords:  ABd1234@1,Manikanta@19\n"
     ]
    }
   ],
   "source": [
    "import re\n",
    "def check_password(password):\n",
    "    if len(password) < 6 or len(password) > 12:\n",
    "        return False\n",
    "    if not re.search(\"[a-z]\",password):\n",
    "        return False\n",
    "    if not re.search(\"[A-Z]\",password):\n",
    "        return False\n",
    "    if not re.search(\"[0-9]\",password):\n",
    "        return False\n",
    "    if not re.search(\"[$#@]\",password):\n",
    "        return False\n",
    "    return True\n",
    "passwords=input(\"Enter comma separated passwords: \").split(\",\")\n",
    "valid_passwords=[]\n",
    "for password in passwords:\n",
    "    if check_password(password):\n",
    "        valid_passwords.append(password)\n",
    "print(\"The valid passwords: \",\",\".join(valid_passwords))"
   ]
  },
  {
   "cell_type": "code",
   "execution_count": null,
   "metadata": {},
   "outputs": [],
   "source": []
  }
 ],
 "metadata": {
  "kernelspec": {
   "display_name": "Python 3",
   "language": "python",
   "name": "python3"
  },
  "language_info": {
   "codemirror_mode": {
    "name": "ipython",
    "version": 3
   },
   "file_extension": ".py",
   "mimetype": "text/x-python",
   "name": "python",
   "nbconvert_exporter": "python",
   "pygments_lexer": "ipython3",
   "version": "3.8.3"
  }
 },
 "nbformat": 4,
 "nbformat_minor": 4
}
