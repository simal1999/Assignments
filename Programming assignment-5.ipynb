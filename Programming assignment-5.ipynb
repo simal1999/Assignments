{
 "cells": [
  {
   "cell_type": "markdown",
   "metadata": {},
   "source": [
    "1.Write a Python Program to Find LCM?"
   ]
  },
  {
   "cell_type": "code",
   "execution_count": 1,
   "metadata": {},
   "outputs": [
    {
     "name": "stdout",
     "output_type": "stream",
     "text": [
      "Enter the number of integers: 3\n",
      "Enter integer 1: 3\n",
      "Enter integer 2: 5\n",
      "Enter integer 3: 7\n",
      "LCM of [3, 5, 7] is 105.\n"
     ]
    }
   ],
   "source": [
    "n=int(input(\"Enter the number of integers: \"))\n",
    "numbers=[]\n",
    "for i in range(n):\n",
    "    num=int(input(\"Enter integer \"+str(i+1)+\": \"))\n",
    "    numbers.append(num)\n",
    "while True:\n",
    "    if all(i%n==0 for n in numbers):\n",
    "        lcm=i\n",
    "        break\n",
    "    i+=1\n",
    "print(f\"LCM of {numbers} is {lcm}.\")"
   ]
  },
  {
   "cell_type": "markdown",
   "metadata": {},
   "source": [
    "2.Write a Python Program to Find HCF?"
   ]
  },
  {
   "cell_type": "code",
   "execution_count": 2,
   "metadata": {},
   "outputs": [
    {
     "name": "stdout",
     "output_type": "stream",
     "text": [
      "Enter the number of integers: 3\n",
      "Enter integer 1: 5\n",
      "Enter integer 2: 10\n",
      "Enter integer 3: 20\n",
      "HCF of [5, 10, 20] is 5.\n"
     ]
    }
   ],
   "source": [
    "numbers=[]\n",
    "factors=[]\n",
    "n=int(input(\"Enter the number of integers: \"))\n",
    "for i in range(n):\n",
    "    num=int(input(\"Enter integer \"+str(i+1)+\": \"))\n",
    "    numbers.append(num)\n",
    "min_num=min(numbers)\n",
    "for i in range(1, min_num+1):\n",
    "    if all(n%i==0 for n in numbers):\n",
    "        factors.append(i)\n",
    "hcf=max(factors)\n",
    "print(f\"HCF of {numbers} is {hcf}.\")"
   ]
  },
  {
   "cell_type": "markdown",
   "metadata": {},
   "source": [
    "3.Write a Python Program to Convert Decimal to Binary, Octal and Hexadecimal?"
   ]
  },
  {
   "cell_type": "code",
   "execution_count": 3,
   "metadata": {},
   "outputs": [
    {
     "name": "stdout",
     "output_type": "stream",
     "text": [
      "Enter a decimal number: 3.4\n",
      "Binary representation: 0b11\n",
      "Octal representation: 0o3\n",
      "Hexadecimal representation: 0x3\n"
     ]
    }
   ],
   "source": [
    "num=float(input(\"Enter a decimal number: \"))\n",
    "binary=bin(int(num))\n",
    "octal=oct(int(num))\n",
    "hexadecimal=hex(int(num))\n",
    "print(f\"Binary representation: {binary}\")\n",
    "print(f\"Octal representation: {octal}\")\n",
    "print(f\"Hexadecimal representation: {hexadecimal}\")"
   ]
  },
  {
   "cell_type": "markdown",
   "metadata": {},
   "source": [
    "4.Write a Python Program To Find ASCII value of a character?"
   ]
  },
  {
   "cell_type": "code",
   "execution_count": 4,
   "metadata": {},
   "outputs": [
    {
     "name": "stdout",
     "output_type": "stream",
     "text": [
      "Enter a character: B\n",
      "The ASCII value of B is 66.\n"
     ]
    }
   ],
   "source": [
    "char=input(\"Enter a character: \")\n",
    "ascii_value=ord(char)\n",
    "print(f\"The ASCII value of {char} is {ascii_value}.\")"
   ]
  },
  {
   "cell_type": "markdown",
   "metadata": {},
   "source": [
    "5.Write a Python Program to Make a Simple Calculator with 4 basic mathematical operations?"
   ]
  },
  {
   "cell_type": "code",
   "execution_count": 5,
   "metadata": {},
   "outputs": [
    {
     "name": "stdout",
     "output_type": "stream",
     "text": [
      "Enter first number: 5\n",
      "Enter second number: 10\n",
      "Select operation:\n",
      "1.Add\n",
      "2.Subtract\n",
      "3.Multiply\n",
      "4.Divide\n",
      "Enter choice (1/2/3/4): 2\n",
      "5.0-10.0=-5.0\n"
     ]
    }
   ],
   "source": [
    "num1 = float(input(\"Enter first number: \"))\n",
    "num2 = float(input(\"Enter second number: \"))\n",
    "print(\"Select operation:\")\n",
    "print(\"1.Add\")\n",
    "print(\"2.Subtract\")\n",
    "print(\"3.Multiply\")\n",
    "print(\"4.Divide\")\n",
    "key=input(\"Enter choice (1/2/3/4): \")\n",
    "if key=='1':\n",
    "    print(f\"{num1}+{num2}={num1 + num2}\")\n",
    "elif key=='2':\n",
    "    print(f\"{num1}-{num2}={num1 - num2}\")\n",
    "elif key=='3':\n",
    "    print(f\"{num1}*{num2}={num1 * num2}\")\n",
    "elif key=='4':\n",
    "    print(f\"{num1}/{num2}={num1 / num2}\")\n",
    "else:\n",
    "    print(\"Invalid input\")"
   ]
  },
  {
   "cell_type": "code",
   "execution_count": null,
   "metadata": {},
   "outputs": [],
   "source": []
  }
 ],
 "metadata": {
  "kernelspec": {
   "display_name": "Python 3",
   "language": "python",
   "name": "python3"
  },
  "language_info": {
   "codemirror_mode": {
    "name": "ipython",
    "version": 3
   },
   "file_extension": ".py",
   "mimetype": "text/x-python",
   "name": "python",
   "nbconvert_exporter": "python",
   "pygments_lexer": "ipython3",
   "version": "3.8.3"
  }
 },
 "nbformat": 4,
 "nbformat_minor": 4
}
