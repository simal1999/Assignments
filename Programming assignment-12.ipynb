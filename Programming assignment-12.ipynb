{
 "cells": [
  {
   "cell_type": "markdown",
   "metadata": {},
   "source": [
    "1. Write a Python program to Extract Unique values dictionary values?"
   ]
  },
  {
   "cell_type": "code",
   "execution_count": 1,
   "metadata": {},
   "outputs": [
    {
     "name": "stdout",
     "output_type": "stream",
     "text": [
      "[1, 2, 3, 4, 5]\n"
     ]
    }
   ],
   "source": [
    "my_dict = {'a': [1, 2, 3], 'b': [2, 3, 4], 'c': [3, 4, 5]}\n",
    "unique_values = list(set(i for j in my_dict.values() for i in j))\n",
    "print(unique_values)"
   ]
  },
  {
   "cell_type": "markdown",
   "metadata": {},
   "source": [
    "2. Write a Python program to find the sum of all items in a dictionary?"
   ]
  },
  {
   "cell_type": "code",
   "execution_count": 2,
   "metadata": {},
   "outputs": [
    {
     "name": "stdout",
     "output_type": "stream",
     "text": [
      "The sum of all items in the dictionary is:  700\n"
     ]
    }
   ],
   "source": [
    "my_dict={\"a\":100,\"b\":100,\"c\":300,\"d\":200}\n",
    "add=sum(my_dict.values())\n",
    "print(\"The sum of all items in the dictionary is: \",add)"
   ]
  },
  {
   "cell_type": "markdown",
   "metadata": {},
   "source": [
    "3. Write a Python program to Merging two Dictionaries?"
   ]
  },
  {
   "cell_type": "code",
   "execution_count": 3,
   "metadata": {},
   "outputs": [
    {
     "name": "stdout",
     "output_type": "stream",
     "text": [
      "Merged dictionary:  {'a': 100, 'b': 300, 'c': 200, 'd': 500}\n"
     ]
    }
   ],
   "source": [
    "dict1={\"a\":100,\"b\":300}\n",
    "dict2 = {\"c\":200,\"d\":500}\n",
    "merged_dict={**dict1,**dict2}\n",
    "print(\"Merged dictionary: \",merged_dict)"
   ]
  },
  {
   "cell_type": "markdown",
   "metadata": {},
   "source": [
    "4. Write a Python program to convert key-values list to flat dictionary?"
   ]
  },
  {
   "cell_type": "code",
   "execution_count": 4,
   "metadata": {},
   "outputs": [
    {
     "name": "stdout",
     "output_type": "stream",
     "text": [
      "Dictionary:  {'a': 1, 'b': 2, 'c': 3}\n"
     ]
    }
   ],
   "source": [
    "keys=[\"a\",\"b\",\"c\"]\n",
    "values=[1, 2, 3]\n",
    "dictionary=dict(zip(keys,values))\n",
    "print(\"Dictionary: \",dictionary)"
   ]
  },
  {
   "cell_type": "markdown",
   "metadata": {},
   "source": [
    "5. Write a Python program to insertion at the beginning in OrderedDict?"
   ]
  },
  {
   "cell_type": "code",
   "execution_count": 5,
   "metadata": {},
   "outputs": [
    {
     "name": "stdout",
     "output_type": "stream",
     "text": [
      "key:Banana value: Yellow\n",
      "key:Apple value: Red\n",
      "key:Grapes value: Green\n",
      "OrderedDict([('Banana', 'Yellow'), ('Apple', 'Red'), ('Grapes', 'Green')])\n"
     ]
    }
   ],
   "source": [
    "from collections import OrderedDict\n",
    "products=OrderedDict()\n",
    "products[\"Banana\"]=\"Yellow\"\n",
    "products[\"Apple\"]=\"Red\"\n",
    "products[\"Grapes\"]=\"Green\"\n",
    "for key in products:\n",
    "    print(\"key:\"+key,\"value: \"+products[key])\n",
    "print(products)"
   ]
  },
  {
   "cell_type": "markdown",
   "metadata": {},
   "source": [
    "6. Write a Python program to check order of character in string using OrderedDict()?"
   ]
  },
  {
   "cell_type": "code",
   "execution_count": 6,
   "metadata": {},
   "outputs": [
    {
     "name": "stdout",
     "output_type": "stream",
     "text": [
      "Order of characters in string: True\n"
     ]
    }
   ],
   "source": [
    "def order_of_characters(string, pattern):\n",
    "    char_order=list(string)\n",
    "    for char in pattern:\n",
    "        if char not in char_order or char!=char_order[0]:\n",
    "            return False\n",
    "        char_order.pop(0)\n",
    "    return True\n",
    "string = \"Hello, World!\"\n",
    "pattern = \"He\"\n",
    "result =order_of_characters(string,pattern)\n",
    "print(\"Order of characters in string:\", result)"
   ]
  },
  {
   "cell_type": "markdown",
   "metadata": {},
   "source": [
    "7. Write a Python program to sort Python Dictionaries by Key or Value?"
   ]
  },
  {
   "cell_type": "code",
   "execution_count": 7,
   "metadata": {},
   "outputs": [
    {
     "name": "stdout",
     "output_type": "stream",
     "text": [
      "Sorted by key:  {'b': 2, 'd': 4, 'f': 6}\n",
      "Sorted by value:  {'b': 2, 'd': 4, 'f': 6}\n"
     ]
    }
   ],
   "source": [
    "def sort_by_key(dictionary):\n",
    "    return dict(sorted(dictionary.items(), key=lambda x: x[0]))\n",
    "def sort_by_value(dictionary):\n",
    "    return dict(sorted(dictionary.items(), key=lambda x: x[1]))\n",
    "dictionary={\"d\": 4, \"f\": 6, \"b\": 2}\n",
    "sorted_by_key=sort_by_key(dictionary)\n",
    "print(\"Sorted by key: \", sorted_by_key)\n",
    "sorted_by_value=sort_by_value(dictionary)\n",
    "print(\"Sorted by value: \", sorted_by_value)"
   ]
  },
  {
   "cell_type": "code",
   "execution_count": null,
   "metadata": {},
   "outputs": [],
   "source": []
  }
 ],
 "metadata": {
  "kernelspec": {
   "display_name": "Python 3",
   "language": "python",
   "name": "python3"
  },
  "language_info": {
   "codemirror_mode": {
    "name": "ipython",
    "version": 3
   },
   "file_extension": ".py",
   "mimetype": "text/x-python",
   "name": "python",
   "nbconvert_exporter": "python",
   "pygments_lexer": "ipython3",
   "version": "3.8.3"
  }
 },
 "nbformat": 4,
 "nbformat_minor": 4
}
