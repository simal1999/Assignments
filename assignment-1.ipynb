{
 "cells": [
  {
   "cell_type": "markdown",
   "metadata": {},
   "source": [
    "1. In the below elements which of them are values or an expression? eg:- values can be integer or string and expressions will be mathematical operators.\n",
    "\n",
    "*\n",
    "\n",
    "'hello'\n",
    "\n",
    "-87.8\n",
    "\n",
    "-\n",
    "\n",
    "/\n",
    "\n",
    "+\n",
    "\n",
    "6 \n",
    "\n",
    "Answer:\n",
    "\n",
    "    * is an expression\n",
    "    'hello' is a value\n",
    "    -87.8 is a value \n",
    "    - is an expression\n",
    "    / is an expression\n",
    "    + is an expression\n",
    "    6 is a value.\n",
    "    \n",
    "\n"
   ]
  },
  {
   "cell_type": "markdown",
   "metadata": {},
   "source": [
    "2. What is the difference between string and variable?\n",
    "\n",
    "Answer:\n",
    "\n",
    "String: A string is a specific type of data representing a sequence of characters.    \n",
    "Variable: A variable is a named container that can hold values of various datatypes including strings.\n"
   ]
  },
  {
   "cell_type": "markdown",
   "metadata": {},
   "source": [
    "3. Describe three different data types.\n",
    "\n",
    "Answer:\n",
    "\n",
    "The three different data types are:\n",
    "\n",
    "1.Integer (int):\n",
    "\n",
    "  The integer data type represents whole numbers without decimal points. \n",
    "  It can be positive or negative numbers, such as -4, 0, or 5\n",
    "  \n",
    "2.float:\n",
    "\n",
    "  The float data type represents decimal points. \n",
    "  It can be positive or negative numbers, such as -5.1,0.4,or 10.6\n",
    "  \n",
    "3.Boolean (bool):\n",
    "\n",
    "  The boolean data type represents a logical value  which can be either True or False. \n",
    "\n",
    "\n"
   ]
  },
  {
   "cell_type": "markdown",
   "metadata": {},
   "source": [
    "4. What is an expression made up of? What do all expressions do?\n",
    "\n",
    "Answer:\n",
    "\n",
    "Expression is made up of values,operators,and function calls that evaluate to a value.Expressions can be used to assign values to variables, for performing arithmetic operations,comparing values, and more.\n"
   ]
  },
  {
   "cell_type": "markdown",
   "metadata": {},
   "source": [
    "5. This assignment statements, like spam = 10. What is the difference between an expression and a statement?\n",
    "\n",
    "Answer:\n",
    "\n",
    "The difference between expression and a statement is, Expressions are used to compute values, while statements are used to perform actions.Expressions can includes within statements,and statements often include expressions to compute.                 \n",
    "example for expression: x = 4+5* 6.Here the expression 4+5*6 is evaluated, resulting in the value 34, which is then assigned to the variable x.                                                      \n",
    "example for statement: spam=10.Here the statement spam = 10 assigns the value 10 to the variable spam."
   ]
  },
  {
   "cell_type": "markdown",
   "metadata": {},
   "source": [
    "6. After running the following code, what does the variable bacon contain?\n",
    "\n",
    "bacon = 22\n",
    "\n",
    "bacon+ 1\n",
    "\n",
    "Answer:\n",
    "\n",
    "22"
   ]
  },
  {
   "cell_type": "markdown",
   "metadata": {},
   "source": [
    "7. What should the values of the following two terms be?\n",
    "\n",
    "'spam' + 'spamspam'\n",
    "\n",
    "'spam' * 3\n",
    "\n",
    "Answer:\n",
    "\n",
    "The values for both terms is 'spamspamspam'"
   ]
  },
  {
   "cell_type": "markdown",
   "metadata": {},
   "source": [
    "8. Why is eggs a valid variable name while 100 is invalid?\n",
    "\n",
    "Answer:\n",
    "\n",
    "Variable names must start with a letters (a-z, A-Z) or an underscore (_) not with integer.So eggs is a valid variable and 100 is invalid variable"
   ]
  },
  {
   "cell_type": "markdown",
   "metadata": {},
   "source": [
    "9. What three functions can be used to get the integer, floating-point number, or string version of a value?\n",
    "\n",
    "Answer:\n",
    "\n",
    "The \"int()\" function is used to convert a value into an integer.It can convert numeric strings or floating-point numbers into integers.     \n",
    "The \"float()\" function is used to convert a value into a floating-point number. It can convert integers or numeric strings into floating-point numbers.                        \n",
    "The \"str()\" function is used to convert a value into a string. It can convert integers, floating-point numbers, or other types of values into string."
   ]
  },
  {
   "cell_type": "markdown",
   "metadata": {},
   "source": [
    "10. Why does this expression cause an error? How can you fix it?\n",
    "'I have eaten ' + 99 + ' burritos.'\n",
    "\n",
    "Answer:\n",
    "\n",
    "The expression 'I have eaten ' + 99 + ' burritos.' causes an error because concatenate a string with an integer directly is not possiable.To fix this error, we need to convert integer into string.\n",
    "The correct expression is 'I have eaten ' + '99' + ' burritos.'\n"
   ]
  },
  {
   "cell_type": "code",
   "execution_count": null,
   "metadata": {},
   "outputs": [],
   "source": []
  }
 ],
 "metadata": {
  "kernelspec": {
   "display_name": "Python 3",
   "language": "python",
   "name": "python3"
  },
  "language_info": {
   "codemirror_mode": {
    "name": "ipython",
    "version": 3
   },
   "file_extension": ".py",
   "mimetype": "text/x-python",
   "name": "python",
   "nbconvert_exporter": "python",
   "pygments_lexer": "ipython3",
   "version": "3.8.3"
  }
 },
 "nbformat": 4,
 "nbformat_minor": 4
}
