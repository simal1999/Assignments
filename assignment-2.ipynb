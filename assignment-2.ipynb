{
 "cells": [
  {
   "cell_type": "markdown",
   "metadata": {},
   "source": [
    "1.What are the two values of the Boolean data type? How do you write them?\n",
    "\n",
    "Answer:                                                                                                    \n",
    "The two values of the Boolean data type are:                                                                \n",
    " 1.True: Represents a logical true value. It is written as True. 'T' must be in uppercase.                           \n",
    " 2.False: Represents a logical false value. It is written as False. 'F' must be in uppercase."
   ]
  },
  {
   "cell_type": "markdown",
   "metadata": {},
   "source": [
    "2. What are the three different types of Boolean operators?\n",
    "\n",
    "Answer:                                                                                                              \n",
    "The three different types of Boolean operators are                                                \n",
    "1.AND Operator: The 'and' operator is a logical operator that returns True if all conditions are satisfied.If any one of condition fails it returns False.                       \n",
    "2.OR Operator: The 'or' operator is an another logical operator that returns True if at least one of the condition is True, otherwise it returns False.                \n",
    "3.NOT Operator: The 'not' operator is a unary operator that returns the opposite boolean value of its condition.It returns True if the condition is False, and it returns False if the condition is True."
   ]
  },
  {
   "cell_type": "markdown",
   "metadata": {},
   "source": [
    "3. Make a list of each Boolean operators truth tables (i.e. every possible combination of Boolean values for the operator and what it evaluate ).\n",
    "\n",
    "Answer:\n",
    "\n",
    "AND operator:                                                                                                            \n",
    "|a|b| a and b                                                    \n",
    " 0 0 =  0                        \n",
    " 0 1 =  0                            \n",
    " 1 0 =  0                               \n",
    " 1 1 =  1                           \n",
    "\n",
    "OR operator:                                   \n",
    "|a|b| a or b                                                 \n",
    " 0 0 =  0                                       \n",
    " 0 1 =  1                                            \n",
    " 1 0 =  1                                     \n",
    " 1 1 =  1                               \n",
    "\n",
    "NOT operator:                                    \n",
    "not 0 = 1                                            \n",
    "not 1 = 0\n"
   ]
  },
  {
   "cell_type": "markdown",
   "metadata": {},
   "source": [
    "4. What are the values of the following expressions?\n",
    "(5>4) and (3 == 5)                                                      \n",
    "not (5>4)                                                \n",
    "(5>4) or (3 == 5)\n",
    "not ((5>4) or (3 == 5))                                     \n",
    "(True and True) and (True == False)                                                      \n",
    "(not False) or (not True)\n",
    "\n",
    "Answer:                                 \n",
    "(5>4) and (3 == 5) is False                                                    \n",
    "not (5>4) is False                                           \n",
    "(5>4) or (3 == 5) is True\n",
    "not ((5>4) or (3 == 5)) is False                                    \n",
    "(True and True) and (True == False) is False                                                     \n",
    "(not False) or (not True) is True"
   ]
  },
  {
   "cell_type": "markdown",
   "metadata": {},
   "source": [
    "5. What are the six comparison operators?\n",
    "\n",
    "Answer:                                                        \n",
    "The six comparison operators are:                              \n",
    "1.Equal to (==)                                                                 \n",
    "2.Not equal to (!=)                                                           \n",
    "3.Greater than (>)                                                  \n",
    "4.Less than (<)                                                     \n",
    "5.Greater than or equal to (>=)                                               \n",
    "6.Less than or equal to (<=)                              \n"
   ]
  },
  {
   "cell_type": "markdown",
   "metadata": {},
   "source": [
    "6. How do you tell the difference between the equal to and assignment operators?Describe a condition and when you would use one.       \n",
    "Answer:                                                              \n",
    "The difference between the equal to and assignment operators is, the equal to operator (==) is used for comparison of two values and checks if they are equal or not. It returns a Boolean value of True if the values are equal, and False if they are not equal.whereas the assignment operator (=) is used for variable assignment.   \n",
    "\n",
    "    example for Equal to operator (==):                                                 \n",
    "    num1 = 4                                           \n",
    "    num2 = 9                                       \n",
    "    if num1 == num2:                                                                         \n",
    "        print(True)                                                    \n",
    "    else:                                                       \n",
    "        print(False)  \n",
    "        \n",
    "    example for assignment operator(=):                        \n",
    "    x = 5                      \n",
    "    y = x + 2                               \n",
    "    print(y)                       "
   ]
  },
  {
   "cell_type": "markdown",
   "metadata": {},
   "source": [
    "7. Identify the three blocks in this code:\n",
    "spam = 0                                                     \n",
    "if spam == 10:                                                  \n",
    "print(&#39;eggs&#39;)                                             \n",
    "if spam &gt; 5:                                  \n",
    "print(&#39;bacon&#39;)                                   \n",
    "else:                              \n",
    "print(&#39;ham&#39;)                                 \n",
    "print(&#39;spam&#39;)                      \n",
    "print(&#39;spam&#39;) \n",
    "                                   \n"
   ]
  },
  {
   "cell_type": "code",
   "execution_count": 1,
   "metadata": {},
   "outputs": [],
   "source": [
    "#7. answer\n",
    "spam=0\n",
    "if spam == 10:                                  \n",
    "    print('eggs')                          \n",
    "if spam > 5:                                  \n",
    "    print('bacon')                               \n",
    "else:                                      \n",
    "    print('ham')                                 \n",
    "    print('spam')                                      \n",
    "    print('spam')"
   ]
  },
  {
   "cell_type": "markdown",
   "metadata": {},
   "source": [
    "8. Write code that prints Hello if 1 is stored in spam, prints Howdy if 2 is stored in spam, and prints Greetings! if anything else is stored in spam."
   ]
  },
  {
   "cell_type": "code",
   "execution_count": 3,
   "metadata": {},
   "outputs": [
    {
     "name": "stdout",
     "output_type": "stream",
     "text": [
      "5\n",
      "Greetings!\n"
     ]
    }
   ],
   "source": [
    "spam=int(input())\n",
    "if spam == 1:\n",
    "    print(\"Hello\")\n",
    "elif spam == 2:\n",
    "    print(\"Howdy\")\n",
    "else:\n",
    "    print(\"Greetings!\")"
   ]
  },
  {
   "cell_type": "markdown",
   "metadata": {},
   "source": [
    "9.If your programme is stuck in an endless loop, what keys you’ll press?\n",
    "\n",
    "Answer:                                \n",
    "To come out from the program which is stucked in an endless loop by quickly pressing i letter twice "
   ]
  },
  {
   "cell_type": "markdown",
   "metadata": {},
   "source": [
    "10. How can you tell the difference between break and continue?\n",
    "\n",
    "Answer:                              \n",
    "Break is used to exit a loop, while continue is used to skip over the current iteration of a loop. When break is in inside a loop, the loop is exits immediately and the program execution continues with the next statement after the loop. When continue is in inside a loop, the current iteration of the loop is skipped and the program execution continues with the next iteration."
   ]
  },
  {
   "cell_type": "markdown",
   "metadata": {},
   "source": [
    "11. In a for loop, what is the difference between range(10), range(0, 10), and range(0, 10, 1)?\n",
    "\n",
    "Answer:                       \n",
    "The range(10) will generate a sequence of numbers from 0 to 9 but not including 10.                    \n",
    "The range(0,10) will generate a sequence of numbers from 0 to 9 but not including 10. The 0 is the starting value of the sequence and 10 is the stopping value of the sequence.                                    \n",
    "The range(0,10,1) will generate a sequence of numbers from 0 to 9 but not including 10.The 0 is the starting value of the sequence, 10 is the stopping value of the sequence, and 1 is the step between each number."
   ]
  },
  {
   "cell_type": "markdown",
   "metadata": {},
   "source": [
    "12. Write a short program that prints the numbers 1 to 10 using a for loop. Then write an equivalent\n",
    "program that prints the numbers 1 to 10 using a while loop."
   ]
  },
  {
   "cell_type": "code",
   "execution_count": 4,
   "metadata": {},
   "outputs": [
    {
     "name": "stdout",
     "output_type": "stream",
     "text": [
      "1\n",
      "2\n",
      "3\n",
      "4\n",
      "5\n",
      "6\n",
      "7\n",
      "8\n",
      "9\n",
      "10\n"
     ]
    }
   ],
   "source": [
    "# by using for loop\n",
    "for i in range(1,11):\n",
    "    print(i)"
   ]
  },
  {
   "cell_type": "code",
   "execution_count": 5,
   "metadata": {},
   "outputs": [
    {
     "name": "stdout",
     "output_type": "stream",
     "text": [
      "1\n",
      "2\n",
      "3\n",
      "4\n",
      "5\n",
      "6\n",
      "7\n",
      "8\n",
      "9\n",
      "10\n"
     ]
    }
   ],
   "source": [
    "# by using while loop\n",
    "a=1\n",
    "while a<=10:\n",
    "    print(a)\n",
    "    a+=1"
   ]
  },
  {
   "cell_type": "markdown",
   "metadata": {},
   "source": [
    "13. If you had a function named bacon() inside a module named spam, how would you call it after importing spam?\n",
    "\n",
    "Answer:\n",
    "\n",
    "Method-1                 \n",
    "import spam                  \n",
    "spam.bacon()\n",
    " \n",
    "Method-2                                       \n",
    "from spam import bacon                         \n",
    "bacon()                       \n",
    "\n",
    "\n"
   ]
  },
  {
   "cell_type": "code",
   "execution_count": null,
   "metadata": {},
   "outputs": [],
   "source": []
  }
 ],
 "metadata": {
  "kernelspec": {
   "display_name": "Python 3",
   "language": "python",
   "name": "python3"
  },
  "language_info": {
   "codemirror_mode": {
    "name": "ipython",
    "version": 3
   },
   "file_extension": ".py",
   "mimetype": "text/x-python",
   "name": "python",
   "nbconvert_exporter": "python",
   "pygments_lexer": "ipython3",
   "version": "3.8.3"
  }
 },
 "nbformat": 4,
 "nbformat_minor": 4
}
